{
 "cells": [
  {
   "cell_type": "markdown",
   "id": "9932d968-bbf7-47d8-9d9c-4377f4c64422",
   "metadata": {},
   "source": [
    "### Load and Clean Data"
   ]
  },
  {
   "cell_type": "code",
   "execution_count": 55,
   "id": "1cf48be1-70a3-4fdf-98be-8ad506a07703",
   "metadata": {
    "tags": []
   },
   "outputs": [],
   "source": [
    "import numpy as np\n",
    "import matplotlib.pyplot as plt\n",
    "import pandas as pd\n",
    "import torch\n",
    "import torch.nn as nn\n",
    "import torch.optim as optim\n",
    "from sklearn.model_selection import train_test_split\n",
    "\n",
    "data=pd.read_csv('../Updated_data/jump_meta_data.csv')\n",
    "ts_data=np.load('../Updated_data/jump_ts_data.npy')\n",
    "device = torch.device('cuda' if torch.cuda.is_available() else \"cpu\")"
   ]
  },
  {
   "cell_type": "markdown",
   "id": "f19706bd-a530-4529-a113-574b71005f0c",
   "metadata": {},
   "source": [
    "### Add Time Series to Dataframe"
   ]
  },
  {
   "cell_type": "code",
   "execution_count": 56,
   "id": "1b85421c-e750-4aa3-91f5-77906d1a72a5",
   "metadata": {
    "tags": []
   },
   "outputs": [],
   "source": [
    "ts_mapping = {idx: ts_data[idx] for idx in range(len(data))}\n",
    "\n",
    "# Add time series to corresponding index\n",
    "data[\"time_series\"] = list(ts_data)\n",
    "first_ts=data.loc[0, \"time_series\"]\n"
   ]
  },
  {
   "cell_type": "markdown",
   "id": "9427043a-5f7d-471f-b87c-5e943037f50a",
   "metadata": {},
   "source": [
    "### Set NaN Values to 0"
   ]
  },
  {
   "cell_type": "code",
   "execution_count": 57,
   "id": "29363507-3b99-4a2b-93d9-6ff641b70e4a",
   "metadata": {
    "tags": []
   },
   "outputs": [],
   "source": [
    "ts_data[np.isnan(ts_data)] = 0.0"
   ]
  },
  {
   "cell_type": "markdown",
   "id": "e5383b3e-d75f-4bfa-a8f6-a9fc97a32d0c",
   "metadata": {},
   "source": [
    "### Create New Column 'total_force' containing sum of left and right feet per time step"
   ]
  },
  {
   "cell_type": "code",
   "execution_count": 58,
   "id": "3326ae08-5c41-4e5e-a926-2207292e229e",
   "metadata": {
    "tags": []
   },
   "outputs": [],
   "source": [
    "data[\"total_force\"] = data[\"time_series\"].apply(lambda x: x.sum(axis=1))"
   ]
  },
  {
   "cell_type": "markdown",
   "id": "1db23e48-8245-4daf-bb46-62f4d2e451e1",
   "metadata": {},
   "source": [
    "### Normalize Trial Data Per Individual Trial"
   ]
  },
  {
   "cell_type": "code",
   "execution_count": 59,
   "id": "0ca73403-022e-4e94-918e-fd5b2a7ebd99",
   "metadata": {
    "tags": []
   },
   "outputs": [],
   "source": [
    "# def normalize_trial(trial_data):\n",
    "#     max_value = np.max(trial_data)  # Get the max value for that specific trial\n",
    "#     return trial_data / max_value if max_value != 0 else trial_data  \n",
    "\n",
    "# # Apply normalization for each row's time series individually\n",
    "# data[\"normalized_time_series\"] = data[\"total_force\"].apply(normalize_trial)\n",
    "data[\"initial_value\"] = data[\"total_force\"].apply(lambda x: x[0])\n",
    "\n",
    "\n",
    "data[\"normalized_time_series\"] = data[\"total_force\"] / data[\"initial_value\"]"
   ]
  },
  {
   "cell_type": "code",
   "execution_count": 62,
   "id": "5f0ebec9-71a0-404c-bf84-46686bfbcf97",
   "metadata": {
    "tags": []
   },
   "outputs": [
    {
     "data": {
      "text/html": [
       "<div>\n",
       "<style scoped>\n",
       "    .dataframe tbody tr th:only-of-type {\n",
       "        vertical-align: middle;\n",
       "    }\n",
       "\n",
       "    .dataframe tbody tr th {\n",
       "        vertical-align: top;\n",
       "    }\n",
       "\n",
       "    .dataframe thead th {\n",
       "        text-align: right;\n",
       "    }\n",
       "</style>\n",
       "<table border=\"1\" class=\"dataframe\">\n",
       "  <thead>\n",
       "    <tr style=\"text-align: right;\">\n",
       "      <th></th>\n",
       "      <th>Unnamed: 0.1</th>\n",
       "      <th>Unnamed: 0</th>\n",
       "      <th>testID</th>\n",
       "      <th>rep</th>\n",
       "      <th>profileID</th>\n",
       "      <th>recordedUTC</th>\n",
       "      <th>Team</th>\n",
       "      <th>Category</th>\n",
       "      <th>BODY_WEIGHT_N</th>\n",
       "      <th>BODY_WEIGHT</th>\n",
       "      <th>...</th>\n",
       "      <th>RELATIVE_CONCENTRIC_RPD_100MS</th>\n",
       "      <th>TOTAL_WORK</th>\n",
       "      <th>VELOCITY_AT_PEAK_POWER</th>\n",
       "      <th>CMJ_STIFFNESS</th>\n",
       "      <th>ECCENTRIC_UNLOADING_IMPULSE</th>\n",
       "      <th>id_rep</th>\n",
       "      <th>time_series</th>\n",
       "      <th>total_force</th>\n",
       "      <th>initial_value</th>\n",
       "      <th>normalized_time_series</th>\n",
       "    </tr>\n",
       "  </thead>\n",
       "  <tbody>\n",
       "    <tr>\n",
       "      <th>0</th>\n",
       "      <td>0</td>\n",
       "      <td>0</td>\n",
       "      <td>f6b0b4f3-ccaa-488c-b71b-2a9d6fd8c359</td>\n",
       "      <td>1</td>\n",
       "      <td>eb037fd9-1b41-4bee-ade5-079f3d3012f8</td>\n",
       "      <td>2023-01-06 23:31:43.937000+00:00</td>\n",
       "      <td>Acro and Tumbling</td>\n",
       "      <td>Sport</td>\n",
       "      <td>NaN</td>\n",
       "      <td>NaN</td>\n",
       "      <td>...</td>\n",
       "      <td>387.302675</td>\n",
       "      <td>352.793276</td>\n",
       "      <td>1.889667</td>\n",
       "      <td>result\\nCMJ_STIFFNESS    8803.572568\\nCMJ_STIF...</td>\n",
       "      <td>result\\nECCENTRIC_UNLOADING_IMPULSE   -42.7836...</td>\n",
       "      <td>f6b0b4f3-ccaa-488c-b71b-2a9d6fd8c359_1</td>\n",
       "      <td>[[259.619805, 259.820513], [257.619805, 261.82...</td>\n",
       "      <td>[519.4403179999999, 519.4403179999999, 516.440...</td>\n",
       "      <td>519.440318</td>\n",
       "      <td>[1.0, 1.0, 0.994224553050578, 0.99422455305057...</td>\n",
       "    </tr>\n",
       "  </tbody>\n",
       "</table>\n",
       "<p>1 rows × 131 columns</p>\n",
       "</div>"
      ],
      "text/plain": [
       "   Unnamed: 0.1  Unnamed: 0                                testID  rep  \\\n",
       "0             0           0  f6b0b4f3-ccaa-488c-b71b-2a9d6fd8c359    1   \n",
       "\n",
       "                              profileID                       recordedUTC  \\\n",
       "0  eb037fd9-1b41-4bee-ade5-079f3d3012f8  2023-01-06 23:31:43.937000+00:00   \n",
       "\n",
       "                Team Category  BODY_WEIGHT_N  BODY_WEIGHT  ...  \\\n",
       "0  Acro and Tumbling    Sport            NaN          NaN  ...   \n",
       "\n",
       "   RELATIVE_CONCENTRIC_RPD_100MS  TOTAL_WORK  VELOCITY_AT_PEAK_POWER  \\\n",
       "0                     387.302675  352.793276                1.889667   \n",
       "\n",
       "                                       CMJ_STIFFNESS  \\\n",
       "0  result\\nCMJ_STIFFNESS    8803.572568\\nCMJ_STIF...   \n",
       "\n",
       "                         ECCENTRIC_UNLOADING_IMPULSE  \\\n",
       "0  result\\nECCENTRIC_UNLOADING_IMPULSE   -42.7836...   \n",
       "\n",
       "                                   id_rep  \\\n",
       "0  f6b0b4f3-ccaa-488c-b71b-2a9d6fd8c359_1   \n",
       "\n",
       "                                         time_series  \\\n",
       "0  [[259.619805, 259.820513], [257.619805, 261.82...   \n",
       "\n",
       "                                         total_force  initial_value  \\\n",
       "0  [519.4403179999999, 519.4403179999999, 516.440...     519.440318   \n",
       "\n",
       "                              normalized_time_series  \n",
       "0  [1.0, 1.0, 0.994224553050578, 0.99422455305057...  \n",
       "\n",
       "[1 rows x 131 columns]"
      ]
     },
     "execution_count": 62,
     "metadata": {},
     "output_type": "execute_result"
    }
   ],
   "source": [
    "data.head(1)"
   ]
  },
  {
   "cell_type": "markdown",
   "id": "1588c640-8692-4380-86e6-fdb904d2dd0f",
   "metadata": {},
   "source": [
    "### Normalize Data Length"
   ]
  },
  {
   "cell_type": "code",
   "execution_count": 76,
   "id": "d1a2a948-5965-4fe7-8afd-d197a4c5f147",
   "metadata": {
    "tags": []
   },
   "outputs": [
    {
     "data": {
      "text/plain": [
       "[<matplotlib.lines.Line2D at 0x7f1d35179360>]"
      ]
     },
     "execution_count": 76,
     "metadata": {},
     "output_type": "execute_result"
    },
    {
     "data": {
      "image/png": "[encoded data removed]",
      "text/plain": [
       "<Figure size 640x480 with 1 Axes>"
      ]
     },
     "metadata": {},
     "output_type": "display_data"
    }
   ],
   "source": [
    "plt.plot(data[\"normalized_time_series\"][0])"
   ]
  },
  {
   "cell_type": "code",
   "execution_count": 65,
   "id": "a8c23d04-7d04-46f8-88da-4d4f526cf65a",
   "metadata": {},
   "outputs": [],
   "source": [
    "test_data = torch.tensor(data[\"normalized_time_series\"], dtype=torch.float32).to(device)"
   ]
  },
  {
   "cell_type": "code",
   "execution_count": 66,
   "id": "ea1adc9e-a949-48ee-ae9d-fd518b2a1cde",
   "metadata": {},
   "outputs": [
    {
     "name": "stdout",
     "output_type": "stream",
     "text": [
      "torch.Size([30012, 100])\n"
     ]
    }
   ],
   "source": [
    "import torch\n",
    "import torch.nn.functional as F\n",
    "\n",
    "def find_jump_end(sequence, threshold=1e-3):\n",
    "    \"\"\"Finds the last non-zero value before the flatline starts.\"\"\"\n",
    "    nonzero_indices = (sequence.abs() > threshold).nonzero(as_tuple=True)[0]\n",
    "    return nonzero_indices[-1].item() if len(nonzero_indices) > 0 else len(sequence) - 1\n",
    "\n",
    "def process_jump_data(data, target_length=100):\n",
    "    \"\"\"\n",
    "    Normalizes and resamples jump data.\n",
    "    \n",
    "    Parameters:\n",
    "        data (torch.Tensor): Original data of shape [num_samples, time_steps]\n",
    "        target_length (int): Desired length for all jumps after resampling\n",
    "    \n",
    "    Returns:\n",
    "        torch.Tensor: Processed data of shape [num_samples, target_length]\n",
    "    \"\"\"\n",
    "    num_samples, original_length = data.shape\n",
    "    processed_data = []\n",
    "\n",
    "    for i in range(num_samples):\n",
    "        # Extract sequence and find where the jump ends\n",
    "        seq = data[i]\n",
    "        jump_end = find_jump_end(seq)\n",
    "        \n",
    "        # Trim sequence up to the jump end\n",
    "        trimmed_seq = seq[:jump_end + 1].unsqueeze(0)  # Shape: [1, trimmed_length]\n",
    "        \n",
    "        # Interpolate to target_length and remove extra dimensions\n",
    "        resampled_seq = F.interpolate(trimmed_seq.unsqueeze(0), size=target_length, mode='linear', align_corners=False).squeeze(0).squeeze(0)\n",
    "\n",
    "        processed_data.append(resampled_seq)\n",
    "\n",
    "    return torch.stack(processed_data)\n",
    "\n",
    "\n",
    "target_length = 100  # Adjust as needed\n",
    "processed_data = process_jump_data(test_data, target_length)\n",
    "print(processed_data.shape)  # Should now be [27695, 100]\n"
   ]
  },
  {
   "cell_type": "markdown",
   "id": "d49b82d5-dd46-4b05-a5fd-5785061fccf2",
   "metadata": {},
   "source": [
    "### Save Downsampled into DataFrame"
   ]
  },
  {
   "cell_type": "code",
   "execution_count": 67,
   "id": "c6f2e3c4-4304-4c3f-950b-0ce9cc6c94e4",
   "metadata": {
    "tags": []
   },
   "outputs": [],
   "source": [
    "import pandas as pd\n",
    "processed_list = processed_data.cpu().numpy().tolist()  \n",
    "data[\"downsampled_time_series\"] = processed_list  "
   ]
  },
  {
   "cell_type": "code",
   "execution_count": 75,
   "id": "5f634b5d-563e-465d-8cf1-a2e3059320a9",
   "metadata": {
    "tags": []
   },
   "outputs": [
    {
     "data": {
      "text/plain": [
       "[<matplotlib.lines.Line2D at 0x7f1d350fa9b0>]"
      ]
     },
     "execution_count": 75,
     "metadata": {},
     "output_type": "execute_result"
    },
    {
     "data": {
      "image/png": "[encoded data removed]",
      "text/plain": [
       "<Figure size 640x480 with 1 Axes>"
      ]
     },
     "metadata": {},
     "output_type": "display_data"
    }
   ],
   "source": [
    "plt.plot(data[\"downsampled_time_series\"][1])"
   ]
  },
  {
   "cell_type": "code",
   "execution_count": 80,
   "id": "72d63f00-14c5-4e5c-9800-99a670e1f1e6",
   "metadata": {
    "tags": []
   },
   "outputs": [
    {
     "data": {
      "text/plain": [
       "100"
      ]
     },
     "execution_count": 80,
     "metadata": {},
     "output_type": "execute_result"
    }
   ],
   "source": [
    "len(data[\"downsampled_time_series\"][0])\n",
    "# data.head(1)\n"
   ]
  },
  {
   "cell_type": "markdown",
   "id": "09090fd4-ea83-4e0f-92ad-145f521810d4",
   "metadata": {},
   "source": [
    "### Save Cleaned Data in Pickle"
   ]
  },
  {
   "cell_type": "code",
   "execution_count": 81,
   "id": "ddb3f654-efaa-482f-9b8e-389b0f382ab3",
   "metadata": {
    "tags": []
   },
   "outputs": [],
   "source": [
    "data.to_pickle(\"cleaned_data.pkl\")\n"
   ]
  },
  {
   "cell_type": "code",
   "execution_count": null,
   "id": "376374f9-9706-418b-96cf-c9b5c3e7b019",
   "metadata": {},
   "outputs": [],
   "source": []
  }
 ],
 "metadata": {
  "kernelspec": {
   "display_name": "Python 3.8 - AzureML",
   "language": "python",
   "name": "python38-azureml"
  },
  "language_info": {
   "codemirror_mode": {
    "name": "ipython",
    "version": 3
   },
   "file_extension": ".py",
   "mimetype": "text/x-python",
   "name": "python",
   "nbconvert_exporter": "python",
   "pygments_lexer": "ipython3",
   "version": "3.10.11"
  }
 },
 "nbformat": 4,
 "nbformat_minor": 5
}
