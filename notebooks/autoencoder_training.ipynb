{
 "cells": [
  {
   "cell_type": "code",
   "execution_count": 14,
   "id": "2f0a9eab-477e-4f9b-b2b0-588e1d3731b2",
   "metadata": {
    "tags": []
   },
   "outputs": [],
   "source": [
    "import torch\n",
    "import torch.nn as nn\n",
    "import pandas as pd\n",
    "import numpy as np\n",
    "\n",
    "device = torch.device('cuda' if torch.cuda.is_available() else \"cpu\")"
   ]
  },
  {
   "cell_type": "markdown",
   "id": "f55d316f-528f-4e18-9d8b-858dc9053281",
   "metadata": {},
   "source": [
    "### Load Cleaned Data from load_and_clean"
   ]
  },
  {
   "cell_type": "code",
   "execution_count": 15,
   "id": "4060d062-f0e0-46d2-ba47-e01b049a1d29",
   "metadata": {},
   "outputs": [],
   "source": [
    "data = pd.read_pickle(\"data/cleaned_data.pkl\")\n"
   ]
  },
  {
   "cell_type": "code",
   "execution_count": 16,
   "id": "c8549882-8941-4748-bb4c-54eff29cfa35",
   "metadata": {
    "tags": []
   },
   "outputs": [
    {
     "data": {
      "text/html": [
       "<div>\n",
       "<style scoped>\n",
       "    .dataframe tbody tr th:only-of-type {\n",
       "        vertical-align: middle;\n",
       "    }\n",
       "\n",
       "    .dataframe tbody tr th {\n",
       "        vertical-align: top;\n",
       "    }\n",
       "\n",
       "    .dataframe thead th {\n",
       "        text-align: right;\n",
       "    }\n",
       "</style>\n",
       "<table border=\"1\" class=\"dataframe\">\n",
       "  <thead>\n",
       "    <tr style=\"text-align: right;\">\n",
       "      <th></th>\n",
       "      <th>Unnamed: 0.1</th>\n",
       "      <th>Unnamed: 0</th>\n",
       "      <th>testID</th>\n",
       "      <th>rep</th>\n",
       "      <th>profileID</th>\n",
       "      <th>recordedUTC</th>\n",
       "      <th>Team</th>\n",
       "      <th>Category</th>\n",
       "      <th>BODY_WEIGHT_N</th>\n",
       "      <th>BODY_WEIGHT</th>\n",
       "      <th>...</th>\n",
       "      <th>TOTAL_WORK</th>\n",
       "      <th>VELOCITY_AT_PEAK_POWER</th>\n",
       "      <th>CMJ_STIFFNESS</th>\n",
       "      <th>ECCENTRIC_UNLOADING_IMPULSE</th>\n",
       "      <th>id_rep</th>\n",
       "      <th>time_series</th>\n",
       "      <th>total_force</th>\n",
       "      <th>initial_value</th>\n",
       "      <th>normalized_time_series</th>\n",
       "      <th>downsampled_time_series</th>\n",
       "    </tr>\n",
       "  </thead>\n",
       "  <tbody>\n",
       "    <tr>\n",
       "      <th>0</th>\n",
       "      <td>0</td>\n",
       "      <td>0</td>\n",
       "      <td>f6b0b4f3-ccaa-488c-b71b-2a9d6fd8c359</td>\n",
       "      <td>1</td>\n",
       "      <td>eb037fd9-1b41-4bee-ade5-079f3d3012f8</td>\n",
       "      <td>2023-01-06 23:31:43.937000+00:00</td>\n",
       "      <td>Acro and Tumbling</td>\n",
       "      <td>Sport</td>\n",
       "      <td>NaN</td>\n",
       "      <td>NaN</td>\n",
       "      <td>...</td>\n",
       "      <td>352.793276</td>\n",
       "      <td>1.889667</td>\n",
       "      <td>result\\nCMJ_STIFFNESS    8803.572568\\nCMJ_STIF...</td>\n",
       "      <td>result\\nECCENTRIC_UNLOADING_IMPULSE   -42.7836...</td>\n",
       "      <td>f6b0b4f3-ccaa-488c-b71b-2a9d6fd8c359_1</td>\n",
       "      <td>[[259.619805, 259.820513], [257.619805, 261.82...</td>\n",
       "      <td>[519.4403179999999, 519.4403179999999, 516.440...</td>\n",
       "      <td>519.440318</td>\n",
       "      <td>[1.0, 1.0, 0.994224553050578, 0.99422455305057...</td>\n",
       "      <td>[0.9997689723968506, 0.9933004975318909, 0.982...</td>\n",
       "    </tr>\n",
       "  </tbody>\n",
       "</table>\n",
       "<p>1 rows × 132 columns</p>\n",
       "</div>"
      ],
      "text/plain": [
       "   Unnamed: 0.1  Unnamed: 0                                testID  rep  \\\n",
       "0             0           0  f6b0b4f3-ccaa-488c-b71b-2a9d6fd8c359    1   \n",
       "\n",
       "                              profileID                       recordedUTC  \\\n",
       "0  eb037fd9-1b41-4bee-ade5-079f3d3012f8  2023-01-06 23:31:43.937000+00:00   \n",
       "\n",
       "                Team Category  BODY_WEIGHT_N  BODY_WEIGHT  ...  TOTAL_WORK  \\\n",
       "0  Acro and Tumbling    Sport            NaN          NaN  ...  352.793276   \n",
       "\n",
       "   VELOCITY_AT_PEAK_POWER                                      CMJ_STIFFNESS  \\\n",
       "0                1.889667  result\\nCMJ_STIFFNESS    8803.572568\\nCMJ_STIF...   \n",
       "\n",
       "                         ECCENTRIC_UNLOADING_IMPULSE  \\\n",
       "0  result\\nECCENTRIC_UNLOADING_IMPULSE   -42.7836...   \n",
       "\n",
       "                                   id_rep  \\\n",
       "0  f6b0b4f3-ccaa-488c-b71b-2a9d6fd8c359_1   \n",
       "\n",
       "                                         time_series  \\\n",
       "0  [[259.619805, 259.820513], [257.619805, 261.82...   \n",
       "\n",
       "                                         total_force  initial_value  \\\n",
       "0  [519.4403179999999, 519.4403179999999, 516.440...     519.440318   \n",
       "\n",
       "                              normalized_time_series  \\\n",
       "0  [1.0, 1.0, 0.994224553050578, 0.99422455305057...   \n",
       "\n",
       "                             downsampled_time_series  \n",
       "0  [0.9997689723968506, 0.9933004975318909, 0.982...  \n",
       "\n",
       "[1 rows x 132 columns]"
      ]
     },
     "execution_count": 16,
     "metadata": {},
     "output_type": "execute_result"
    }
   ],
   "source": [
    "data.head(1)"
   ]
  },
  {
   "cell_type": "code",
   "execution_count": 17,
   "id": "3d6deebc-2a6e-4417-b584-98a806b3689d",
   "metadata": {
    "tags": []
   },
   "outputs": [],
   "source": [
    "processed_data = np.array(data[\"downsampled_time_series\"].tolist())\n",
    "processed_data = torch.tensor(processed_data, dtype=torch.float32)  "
   ]
  },
  {
   "cell_type": "code",
   "execution_count": 19,
   "id": "e343c606-bb64-4e04-b338-7d6d0cbd60ac",
   "metadata": {
    "tags": []
   },
   "outputs": [
    {
     "data": {
      "text/plain": [
       "100"
      ]
     },
     "execution_count": 19,
     "metadata": {},
     "output_type": "execute_result"
    }
   ],
   "source": [
    "len(processed_data[0])"
   ]
  },
  {
   "cell_type": "markdown",
   "id": "72aedb49-89b2-432c-9585-488b4162e908",
   "metadata": {},
   "source": [
    "### Create Autoencoder"
   ]
  },
  {
   "cell_type": "code",
   "execution_count": 20,
   "id": "b32f02f2-de28-409b-a3f3-5dcbeb1c3244",
   "metadata": {
    "tags": []
   },
   "outputs": [],
   "source": [
    "# Create Autoencoder \n",
    "class Autoencoder(nn.Module):\n",
    "    def __init__(self, latent_dim):\n",
    "        super().__init__()\n",
    "        self.latent_dim = latent_dim\n",
    "        \n",
    "        self.encoder = nn.Sequential(\n",
    "            nn.Linear(100, 64),\n",
    "            nn.ReLU(),\n",
    "            nn.Linear(64, 32),\n",
    "            nn.ReLU(),\n",
    "            nn.Linear(32, self.latent_dim)  \n",
    "        )\n",
    "        \n",
    "        self.decoder = nn.Sequential(\n",
    "            nn.Linear(self.latent_dim, 32),\n",
    "            nn.ReLU(),\n",
    "            nn.Linear(32, 64),\n",
    "            nn.ReLU(),\n",
    "            nn.Linear(64, 100),\n",
    "            # nn.Sigmoid()\n",
    "        )\n",
    "    \n",
    "    def encode(self, x):\n",
    "        return self.encoder(x)  \n",
    "    \n",
    "    def forward(self, x):\n",
    "        encoded = self.encoder(x)\n",
    "        decoded = self.decoder(encoded)\n",
    "        return decoded\n",
    "    "
   ]
  },
  {
   "cell_type": "markdown",
   "id": "121f7622-f8c6-4516-a9c8-e3b0a6690341",
   "metadata": {},
   "source": [
    "### Use Processed/Downsampled Code to Train Model"
   ]
  },
  {
   "cell_type": "code",
   "execution_count": 21,
   "id": "8e3ccfd0-d604-42b6-b02e-d2ede25bc427",
   "metadata": {
    "tags": []
   },
   "outputs": [],
   "source": [
    "from sklearn.model_selection import train_test_split\n",
    "\n",
    "train_data, test_data = train_test_split(processed_data, test_size=0.2, random_state=42)"
   ]
  },
  {
   "cell_type": "code",
   "execution_count": 22,
   "id": "f266b9fe-e1bd-44bb-bc6d-6a6839d735e9",
   "metadata": {
    "tags": []
   },
   "outputs": [],
   "source": [
    "latent_dim = 16\n",
    "autoencoder = Autoencoder(latent_dim).to(device)\n",
    "optimizer = torch.optim.Adam(autoencoder.parameters(), lr=0.001)\n",
    "loss_function = nn.MSELoss()  # Mean Squared Error for reconstruction loss\n",
    "\n",
    "train_data = train_data.to(device)\n",
    "test_data = test_data.to(device)"
   ]
  },
  {
   "cell_type": "code",
   "execution_count": 23,
   "id": "0ebc9b09-97bd-4369-8c86-d7a920fdda56",
   "metadata": {
    "tags": []
   },
   "outputs": [],
   "source": [
    "from torch.utils.data import TensorDataset, DataLoader\n",
    "dataset = TensorDataset(train_data, train_data)\n",
    "\n",
    "\n",
    "dataloader = DataLoader(dataset, batch_size=64, shuffle=True)"
   ]
  },
  {
   "cell_type": "markdown",
   "id": "7f3a7bf7-4006-4520-98e6-295a82d21950",
   "metadata": {},
   "source": [
    "### Train Model"
   ]
  },
  {
   "cell_type": "code",
   "execution_count": 25,
   "id": "eef2298a-08e5-4d63-8271-c7f998a2a010",
   "metadata": {
    "tags": []
   },
   "outputs": [
    {
     "name": "stdout",
     "output_type": "stream",
     "text": [
      "Epoch [0/50], Train Loss: 0.0119, Test Loss: 0.0054\n",
      "Epoch [1/50], Train Loss: 0.0032, Test Loss: 0.0051\n",
      "Epoch [2/50], Train Loss: 0.0056, Test Loss: 0.0052\n",
      "Epoch [3/50], Train Loss: 0.0042, Test Loss: 0.0048\n",
      "Epoch [4/50], Train Loss: 0.0041, Test Loss: 0.0042\n",
      "Epoch [5/50], Train Loss: 0.0020, Test Loss: 0.0036\n",
      "Epoch [6/50], Train Loss: 0.0019, Test Loss: 0.0035\n",
      "Epoch [7/50], Train Loss: 0.0019, Test Loss: 0.0036\n",
      "Epoch [8/50], Train Loss: 0.0028, Test Loss: 0.0034\n",
      "Epoch [9/50], Train Loss: 0.0033, Test Loss: 0.0034\n",
      "Epoch [10/50], Train Loss: 0.0092, Test Loss: 0.0037\n",
      "Epoch [11/50], Train Loss: 0.0035, Test Loss: 0.0033\n",
      "Epoch [12/50], Train Loss: 0.0029, Test Loss: 0.0033\n",
      "Epoch [13/50], Train Loss: 0.0037, Test Loss: 0.0034\n",
      "Epoch [14/50], Train Loss: 0.0029, Test Loss: 0.0034\n",
      "Epoch [15/50], Train Loss: 0.0053, Test Loss: 0.0034\n",
      "Epoch [16/50], Train Loss: 0.0055, Test Loss: 0.0034\n",
      "Epoch [17/50], Train Loss: 0.0054, Test Loss: 0.0035\n",
      "Epoch [18/50], Train Loss: 0.0028, Test Loss: 0.0032\n",
      "Epoch [19/50], Train Loss: 0.0041, Test Loss: 0.0033\n",
      "Epoch [20/50], Train Loss: 0.0030, Test Loss: 0.0046\n",
      "Epoch [21/50], Train Loss: 0.0019, Test Loss: 0.0033\n",
      "Epoch [22/50], Train Loss: 0.0022, Test Loss: 0.0033\n",
      "Epoch [23/50], Train Loss: 0.0032, Test Loss: 0.0032\n",
      "Epoch [24/50], Train Loss: 0.0027, Test Loss: 0.0033\n",
      "Epoch [25/50], Train Loss: 0.0057, Test Loss: 0.0032\n",
      "Epoch [26/50], Train Loss: 0.0023, Test Loss: 0.0030\n",
      "Epoch [27/50], Train Loss: 0.0028, Test Loss: 0.0027\n",
      "Epoch [28/50], Train Loss: 0.0019, Test Loss: 0.0026\n",
      "Epoch [29/50], Train Loss: 0.0042, Test Loss: 0.0028\n",
      "Epoch [30/50], Train Loss: 0.0070, Test Loss: 0.0026\n",
      "Epoch [31/50], Train Loss: 0.0024, Test Loss: 0.0025\n",
      "Epoch [32/50], Train Loss: 0.0044, Test Loss: 0.0027\n",
      "Epoch [33/50], Train Loss: 0.0016, Test Loss: 0.0024\n",
      "Epoch [34/50], Train Loss: 0.0017, Test Loss: 0.0024\n",
      "Epoch [35/50], Train Loss: 0.0020, Test Loss: 0.0024\n",
      "Epoch [36/50], Train Loss: 0.0022, Test Loss: 0.0026\n",
      "Epoch [37/50], Train Loss: 0.0026, Test Loss: 0.0024\n",
      "Epoch [38/50], Train Loss: 0.0013, Test Loss: 0.0024\n",
      "Epoch [39/50], Train Loss: 0.0036, Test Loss: 0.0024\n",
      "Epoch [40/50], Train Loss: 0.0018, Test Loss: 0.0025\n",
      "Epoch [41/50], Train Loss: 0.0022, Test Loss: 0.0024\n",
      "Epoch [42/50], Train Loss: 0.0017, Test Loss: 0.0024\n",
      "Epoch [43/50], Train Loss: 0.0021, Test Loss: 0.0024\n",
      "Epoch [44/50], Train Loss: 0.0021, Test Loss: 0.0023\n",
      "Epoch [45/50], Train Loss: 0.0028, Test Loss: 0.0023\n",
      "Epoch [46/50], Train Loss: 0.0011, Test Loss: 0.0024\n",
      "Epoch [47/50], Train Loss: 0.0019, Test Loss: 0.0025\n",
      "Epoch [48/50], Train Loss: 0.0021, Test Loss: 0.0023\n",
      "Epoch [49/50], Train Loss: 0.0020, Test Loss: 0.0022\n"
     ]
    }
   ],
   "source": [
    "num_epochs = 50\n",
    "for epoch in range(num_epochs):\n",
    "    autoencoder.train()  # Set model to training mode\n",
    "    \n",
    "    for x, y in dataloader:\n",
    "        \n",
    "        \n",
    "\n",
    "        optimizer.zero_grad()  # Reset gradients\n",
    "    \n",
    "\n",
    "        outputs = autoencoder(x)  \n",
    "        loss = loss_function(outputs, x)  \n",
    "    \n",
    "        loss.backward() \n",
    "        optimizer.step()  \n",
    "\n",
    "\n",
    "    autoencoder.eval()\n",
    "    with torch.no_grad():\n",
    "        test_outputs = autoencoder(test_data)\n",
    "        test_loss = loss_function(test_outputs, test_data)\n",
    "\n",
    "    if epoch % 1 == 0:\n",
    "        print(f\"Epoch [{epoch}/{num_epochs}], Train Loss: {loss.item():.4f}, Test Loss: {test_loss.item():.4f}\")"
   ]
  },
  {
   "cell_type": "markdown",
   "id": "a57cea35-5019-439f-9b4a-25326ca17720",
   "metadata": {},
   "source": [
    "### Save Model to 'autoencoder_normalized.pth'"
   ]
  },
  {
   "cell_type": "code",
   "execution_count": 26,
   "id": "eafdeabc-f7ec-4215-8c8c-8ed11deb796a",
   "metadata": {},
   "outputs": [
    {
     "name": "stdout",
     "output_type": "stream",
     "text": [
      "Model saved to autoencoder_stochastic.pth\n"
     ]
    }
   ],
   "source": [
    "model_path = \"autoencoder_stochastic.pth\"\n",
    "\n",
    "torch.save({\n",
    "    'model_state_dict': autoencoder.state_dict(),\n",
    "    'optimizer_state_dict': optimizer.state_dict()\n",
    "}, model_path)\n",
    "\n",
    "print(f\"Model saved to {model_path}\")"
   ]
  },
  {
   "cell_type": "code",
   "execution_count": null,
   "id": "27852340-0c98-4d0b-98da-92017fbc875b",
   "metadata": {},
   "outputs": [],
   "source": []
  }
 ],
 "metadata": {
  "kernelspec": {
   "display_name": "Python 3.8 - AzureML",
   "language": "python",
   "name": "python38-azureml"
  },
  "language_info": {
   "codemirror_mode": {
    "name": "ipython",
    "version": 3
   },
   "file_extension": ".py",
   "mimetype": "text/x-python",
   "name": "python",
   "nbconvert_exporter": "python",
   "pygments_lexer": "ipython3",
   "version": "3.10.11"
  }
 },
 "nbformat": 4,
 "nbformat_minor": 5
}
